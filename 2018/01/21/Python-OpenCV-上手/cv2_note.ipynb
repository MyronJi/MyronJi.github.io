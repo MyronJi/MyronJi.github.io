{
 "cells": [
  {
   "cell_type": "code",
   "execution_count": 2,
   "metadata": {},
   "outputs": [],
   "source": [
    "import cv2\n",
    "import numpy as np\n",
    "\n",
    "# np.set_printoptions(threshold=np.inf)\n",
    "def display_im(img): \n",
    "    cv2.namedWindow(\"Image\")   # ,cv2.WINDOW_NORMAL\n",
    "    cv2.imshow(\"Image\", img)   \n",
    "    cv2.waitKey (0)  \n",
    "    cv2.destroyAllWindows()  \n",
    "\n",
    "img = cv2.imread(r'img.png')\n",
    "display_im(img)"
   ]
  },
  {
   "cell_type": "code",
   "execution_count": 6,
   "metadata": {
    "scrolled": true
   },
   "outputs": [
    {
     "data": {
      "text/plain": [
       "True"
      ]
     },
     "execution_count": 6,
     "metadata": {},
     "output_type": "execute_result"
    }
   ],
   "source": [
    "img_gray = cv2.cvtColor(img, cv2.COLOR_BGR2GRAY)\n",
    "# display_im(img_gray)\n",
    "cv2.imwrite('img_gray.png', img_gray)"
   ]
  },
  {
   "cell_type": "code",
   "execution_count": 22,
   "metadata": {
    "scrolled": true
   },
   "outputs": [
    {
     "name": "stdout",
     "output_type": "stream",
     "text": [
      "38\n",
      "80\n",
      "3\n"
     ]
    },
    {
     "ename": "TypeError",
     "evalue": "object of type 'numpy.uint8' has no len()",
     "output_type": "error",
     "traceback": [
      "\u001b[1;31m---------------------------------------------------------------------------\u001b[0m",
      "\u001b[1;31mTypeError\u001b[0m                                 Traceback (most recent call last)",
      "\u001b[1;32m<ipython-input-22-0144eb953045>\u001b[0m in \u001b[0;36m<module>\u001b[1;34m()\u001b[0m\n\u001b[0;32m      2\u001b[0m \u001b[0mprint\u001b[0m\u001b[1;33m(\u001b[0m\u001b[0mlen\u001b[0m\u001b[1;33m(\u001b[0m\u001b[0mimg\u001b[0m\u001b[1;33m[\u001b[0m\u001b[1;36m0\u001b[0m\u001b[1;33m]\u001b[0m\u001b[1;33m)\u001b[0m\u001b[1;33m)\u001b[0m \u001b[1;31m# 第一行有几列？\u001b[0m\u001b[1;33m\u001b[0m\u001b[0m\n\u001b[0;32m      3\u001b[0m \u001b[0mprint\u001b[0m\u001b[1;33m(\u001b[0m\u001b[0mlen\u001b[0m\u001b[1;33m(\u001b[0m\u001b[0mimg\u001b[0m\u001b[1;33m[\u001b[0m\u001b[1;36m0\u001b[0m\u001b[1;33m]\u001b[0m\u001b[1;33m[\u001b[0m\u001b[1;36m0\u001b[0m\u001b[1;33m]\u001b[0m\u001b[1;33m)\u001b[0m\u001b[1;33m)\u001b[0m \u001b[1;31m# 第一列有几个元素？\u001b[0m\u001b[1;33m\u001b[0m\u001b[0m\n\u001b[1;32m----> 4\u001b[1;33m \u001b[0mprint\u001b[0m\u001b[1;33m(\u001b[0m\u001b[0mlen\u001b[0m\u001b[1;33m(\u001b[0m\u001b[0mimg\u001b[0m\u001b[1;33m[\u001b[0m\u001b[1;36m0\u001b[0m\u001b[1;33m]\u001b[0m\u001b[1;33m[\u001b[0m\u001b[1;36m0\u001b[0m\u001b[1;33m]\u001b[0m\u001b[1;33m[\u001b[0m\u001b[1;36m0\u001b[0m\u001b[1;33m]\u001b[0m\u001b[1;33m)\u001b[0m\u001b[1;33m)\u001b[0m\u001b[1;31m#\u001b[0m\u001b[1;33m\u001b[0m\u001b[0m\n\u001b[0m",
      "\u001b[1;31mTypeError\u001b[0m: object of type 'numpy.uint8' has no len()"
     ]
    }
   ],
   "source": [
    "print(len(img)) #告诉洒家你这个数组一共有几行？\n",
    "print(len(img[0])) # 第一行有几列？\n",
    "print(len(img[0][0])) # 第一列有几个元素？\n",
    "print(len(img[0][0][0]))# 第一个元素里有几个东西？"
   ]
  },
  {
   "cell_type": "code",
   "execution_count": 25,
   "metadata": {
    "scrolled": true
   },
   "outputs": [
    {
     "name": "stdout",
     "output_type": "stream",
     "text": [
      "[[255 255 255 255 255 250 234 255 255 255]\n",
      " [255 255 255 255 255 184 128 223 255 255]\n",
      " [255 255 255 255 255 239 147 128 231 255]\n",
      " [255 255 255 255 255 255 243 144 223 255]\n",
      " [255 255 255 255 255 255 255 250 255 250]\n",
      " [255 255 255 255 255 255 255 255 255 250]\n",
      " [255 255 255 255 252 221 221 221 240 213]\n",
      " [255 255 255 255 246 120 120 120 205 200]\n",
      " [255 255 255 255 255 252 252 126 205 255]\n",
      " [255 255 255 255 255 255 255 126 205 255]\n",
      " [255 255 255 255 255 255 255 126 205 255]\n",
      " [255 255 255 255 255 255 255 126 205 255]\n",
      " [255 255 255 255 255 255 255 126 205 208]\n",
      " [255 255 255 255 255 255 253 125 186 242]\n",
      " [255 255 255 255 252 200 140 174 166 128]\n",
      " [255 255 255 255 255 172 179 254 255 226]\n",
      " [255 255 255 255 255 248 254 255 255 255]\n",
      " [255 255 255 255 255 255 255 255 255 255]\n",
      " [255 255 255 255 255 255 255 255 255 255]\n",
      " [255 255 255 255 255 255 255 255 255 255]]\n"
     ]
    }
   ],
   "source": [
    "img_cut = img_gray[10:30, 30:40]\n",
    "cv2.imwrite('img_cut.png', img_cut)\n",
    "print(img_cut)"
   ]
  },
  {
   "cell_type": "code",
   "execution_count": 48,
   "metadata": {},
   "outputs": [
    {
     "name": "stdout",
     "output_type": "stream",
     "text": [
      "[[ 0.13394655  0.1270888   0.10907385 ...,  0.13258654  0.14497454\n",
      "   0.15154529]\n",
      " [ 0.14247611  0.14093842  0.13738178 ...,  0.12257441  0.136502\n",
      "   0.14708124]\n",
      " [ 0.11726408  0.11738922  0.11925564 ...,  0.1119022   0.12650129\n",
      "   0.13966927]\n",
      " ..., \n",
      " [-0.11079745 -0.11103781 -0.11126061 ..., -0.17459854 -0.17728637\n",
      "  -0.17887017]\n",
      " [-0.11440915 -0.11443781 -0.1144247  ..., -0.18694539 -0.18942998\n",
      "  -0.19084181]\n",
      " [-0.11870285 -0.11869675 -0.11863921 ..., -0.19886269 -0.20118494\n",
      "  -0.20253794]]\n",
      "0.402108\n",
      "(array([203], dtype=int64), array([528], dtype=int64))\n"
     ]
    }
   ],
   "source": [
    "target = cv2.imread('target.png')\n",
    "target_grey = cv2.cvtColor(target, cv2.COLOR_BGR2GRAY)\n",
    "\n",
    "res = cv2.matchTemplate(target_grey, img_gray, cv2.TM_CCOEFF_NORMED)\n",
    "loc = np.where(res >= res.max())\n",
    "for pt in zip(*loc[::-1]):\n",
    "    cv2.rectangle(target, pt, (pt[0] + 80, pt[1] + 38), (7,249,151), 2)\n",
    "# display_im(target)\n",
    "print(res)\n",
    "print(res.max())\n",
    "print(loc)\n"
   ]
  }
 ],
 "metadata": {
  "kernelspec": {
   "display_name": "Python 3",
   "language": "python",
   "name": "python3"
  },
  "language_info": {
   "codemirror_mode": {
    "name": "ipython",
    "version": 3
   },
   "file_extension": ".py",
   "mimetype": "text/x-python",
   "name": "python",
   "nbconvert_exporter": "python",
   "pygments_lexer": "ipython3",
   "version": "3.6.1"
  }
 },
 "nbformat": 4,
 "nbformat_minor": 2
}
